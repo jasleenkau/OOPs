{
  "nbformat": 4,
  "nbformat_minor": 0,
  "metadata": {
    "colab": {
      "provenance": [],
      "collapsed_sections": [
        "MnX75LzIz5XC",
        "VUa-OfLE0xnh",
        "tBK1RjdL1AGQ",
        "0BMB_3dh1PTR"
      ],
      "include_colab_link": true
    },
    "kernelspec": {
      "name": "python3",
      "display_name": "Python 3"
    },
    "language_info": {
      "name": "python"
    }
  },
  "cells": [
    {
      "cell_type": "markdown",
      "metadata": {
        "id": "view-in-github",
        "colab_type": "text"
      },
      "source": [
        "<a href=\"https://colab.research.google.com/github/jasleenkau/OOPs/blob/main/OOPs_in_Python_Assignment.ipynb\" target=\"_parent\"><img src=\"https://colab.research.google.com/assets/colab-badge.svg\" alt=\"Open In Colab\"/></a>"
      ]
    },
    {
      "cell_type": "markdown",
      "source": [
        "##👋 Welcome to today's assignment!\n",
        "\n",
        "Are you ready to put your Object-Oriented Programming (OOPs) skills in Python to the test? With the knowledge you've gained in the last lesson, you'll breeze through this assignment!\n",
        "\n",
        "💪📚 Show us what you've got and let's see how far you've come in your learning journey.\n",
        "\n",
        "Good luck! 🍀🚀"
      ],
      "metadata": {
        "id": "PpTVNfnjw-cR"
      }
    },
    {
      "cell_type": "markdown",
      "source": [
        "## **Activity 1:**"
      ],
      "metadata": {
        "id": "MnX75LzIz5XC"
      }
    },
    {
      "cell_type": "markdown",
      "source": [
        "### **Building a Simple Calculator** 🧮🔢\n",
        "\n",
        "\n",
        "In this activity, you will build a simple calculator program in Python using Object-Oriented Programming (OOP) concepts."
      ],
      "metadata": {
        "id": "wi0GGVc-l-iH"
      }
    },
    {
      "cell_type": "code",
      "source": [
        "class calculator:\n",
        "  def __init__(self):\n",
        "    self.result=0\n",
        "  def add(self, num1, num2):\n",
        "    self.result=num1+num2\n",
        "    return self.result\n",
        "  def substract(self, num1, num2):\n",
        "    self.result=num1-num2\n",
        "    return self.result\n",
        "  def multiply(self, num1, num2):\n",
        "    self.result=num1*num2\n",
        "    return self.result\n",
        "  def divide(self, num1, num2):\n",
        "    if num2==0:\n",
        "      print(\"Error,cannot ne divisible by zero\")\n",
        "    else:\n",
        "      self.result=num1/num2\n",
        "      return self.result\n",
        "  def clear(self):\n",
        "    self.result=0\n",
        "    return self.result\n",
        "Cal=calculator()\n",
        "addition=Cal.add(5,4)\n",
        "substraction=Cal.substract(5,4)\n",
        "multiply=Cal.multiply(5,4)\n",
        "division=Cal.divide(5,4)\n",
        "print(\"The addition is:\",addition)\n",
        "print(\"The substraction is:\", substraction)\n",
        "print(\"The Multiplication is:\",multiply)\n",
        "print(\"The division is:\",division)\n",
        "\n",
        "\n",
        "\n",
        ""
      ],
      "metadata": {
        "id": "zphxebyom5IQ",
        "colab": {
          "base_uri": "https://localhost:8080/"
        },
        "outputId": "86f40dd7-69bb-4ec8-9c62-2796299b6da0"
      },
      "execution_count": 4,
      "outputs": [
        {
          "output_type": "stream",
          "name": "stdout",
          "text": [
            "The addition is: 9\n",
            "The substraction is: 1\n",
            "The Multiplication is: 20\n",
            "The division is: 1.25\n"
          ]
        }
      ]
    },
    {
      "cell_type": "code",
      "source": [
        "\n"
      ],
      "metadata": {
        "id": "rKnQSAlpsdx0"
      },
      "execution_count": null,
      "outputs": []
    },
    {
      "cell_type": "markdown",
      "source": [
        "👉 **Instructions:**\n",
        "\n",
        "1. Start by defining a class called Calculator.\n",
        "2. Define four methods within the class: add, subtract, multiply, and divide.\n",
        "3. Each method should take two arguments: num1 and num2.\n",
        "4. The add method should return the sum of num1 and num2.\n",
        "5. The subtract method should return the difference between num1 and num2.\n",
        "6. The multiply method should return the product of num1 and num2.\n",
        "7. The divide method should return the result of dividing num1 by num2. However, if num2 is zero, the method should raise a ValueError with the message \"Cannot divide by zero\"."
      ],
      "metadata": {
        "id": "QvuzAZb-m8EG"
      }
    },
    {
      "cell_type": "markdown",
      "source": [
        "## **Activity 2:**"
      ],
      "metadata": {
        "id": "VUa-OfLE0xnh"
      }
    },
    {
      "cell_type": "markdown",
      "source": [
        "### 🏀**Basketball Game Score Tracker**📈\n",
        "\n",
        "Create a class that will keep track of the score of a basketball game. The class should have methods for updating the score and printing the current score."
      ],
      "metadata": {
        "id": "3IigXP8Ir4Yq"
      }
    },
    {
      "cell_type": "markdown",
      "source": [
        "![basketball-net.png](data:image/png;base64,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)"
      ],
      "metadata": {
        "id": "qZO6NgyhAJwm"
      }
    },
    {
      "cell_type": "code",
      "source": [
        "# Create BasketballGame class\n",
        "class BasketballGame:\n",
        "  def __init__(self):\n",
        "    self.scores1=0\n",
        "    self.scores2=0\n",
        "  def update_scores1(self, points):\n",
        "   self.scores1 += points\n",
        "   return self.scores1\n",
        "  def update_scores2(self, points):\n",
        "    self.scores2 += points\n",
        "    return self.scores2\n",
        "  def current_scores(self):\n",
        "    print(f'The total scores of team1 is {self.scores1} | The total scores of team2 is {self.scores2}')\n",
        "game=BasketballGame()\n",
        "game.update_scores1(3)\n",
        "game.update_scores2(5)\n",
        "game.current_scores()\n",
        "\n",
        "game.update_scores1(7)\n",
        "game.update_scores2(2)\n",
        "game.current_scores()\n"
      ],
      "metadata": {
        "id": "op236YgFsjA7",
        "colab": {
          "base_uri": "https://localhost:8080/"
        },
        "outputId": "3245f078-8741-4f07-fee2-afe49ef65776"
      },
      "execution_count": 11,
      "outputs": [
        {
          "output_type": "stream",
          "name": "stdout",
          "text": [
            "The total scores of team1 is 3 | The total scores of team2 is 5\n",
            "The total scores of team1 is 10 | The total scores of team2 is 7\n"
          ]
        }
      ]
    },
    {
      "cell_type": "code",
      "source": [
        "class BasketballGame:\n",
        "    def __init__(self):\n",
        "        self.team1_score = 0\n",
        "        self.team2_score = 0\n",
        "\n",
        "    def update_team1(self, points):\n",
        "        self.team1_score += points\n",
        "\n",
        "    def update_team2(self, points):\n",
        "        self.team2_score += points\n",
        "\n",
        "    def print_score(self):\n",
        "        print(f\"Team 1: {self.team1_score} | Team 2: {self.team2_score}\")\n",
        "\n",
        "\n",
        "# Testing the code\n",
        "game = BasketballGame()\n",
        "game.update_team1(3)  # Team 1 scores a 3-pointer\n",
        "game.update_team2(2)  # Team 2 scores a 2-pointer\n",
        "game.print_score()    # This should print: Team 1: 3 | Team 2: 2\n",
        "\n",
        "game.update_team1(2)  # Team 1 scores a 2-pointer\n",
        "game.print_score()    # This should print: Team 1: 5 | Team 2: 2\n",
        "\n"
      ],
      "metadata": {
        "id": "KSatdMIbsuI7"
      },
      "execution_count": null,
      "outputs": []
    },
    {
      "cell_type": "markdown",
      "source": [
        "👉 **Instructions:**\n",
        "\n",
        "1. Start by creating a class called \"BasketballGame\".\n",
        "2. In the class constructor, initialize the score for both teams to 0.\n",
        "3. Add methods to the class for updating the score for each team. These methods should take in a number of points and add that to the appropriate team's score.\n",
        "4. Add a method to the class for printing the current score. This method should print out the score for both teams.\n",
        "5. Test your code by creating an instance of the \"BasketballGame\" class, updating the score for each team, and printing the current score."
      ],
      "metadata": {
        "id": "klxR5WZOtXlL"
      }
    },
    {
      "cell_type": "markdown",
      "source": [
        "## **Activity 3:**"
      ],
      "metadata": {
        "id": "tBK1RjdL1AGQ"
      }
    },
    {
      "cell_type": "markdown",
      "source": [
        "### 🎨 **Paint Brush Class** 🖌️\n",
        "\n",
        "Create a Python class for a paint brush that has the following properties:\n",
        "\n",
        "* Size (small, medium, or large)\n",
        "* Color (red, blue, green, or yellow)\n",
        "* Brand (Winsor & Newton, Liquitex, or Grumbacher)\n",
        "* Type (round or flat)\n"
      ],
      "metadata": {
        "id": "VwvhqW59s8-7"
      }
    },
    {
      "cell_type": "code",
      "source": [
        "class PaintBrush:\n",
        "    VALID_SIZES = [\"small\", \"medium\", \"large\"]\n",
        "    VALID_COLORS = [\"red\", \"blue\", \"green\", \"yellow\"]\n",
        "    VALID_BRANDS = [\"Winsor & Newton\", \"Liquitex\", \"Grumbacher\"]\n",
        "    VALID_TYPES = [\"round\", \"flat\"]\n",
        "\n",
        "    def __init__(self, size, color, brand, brush_type):\n",
        "        if size not in self.VALID_SIZES:\n",
        "            raise ValueError(f\"Invalid size: {size}. Must be one of {self.VALID_SIZES}\")\n",
        "        if color not in self.VALID_COLORS:\n",
        "            raise ValueError(f\"Invalid color: {color}. Must be one of {self.VALID_COLORS}\")\n",
        "        if brand not in self.VALID_BRANDS:\n",
        "            raise ValueError(f\"Invalid brand: {brand}. Must be one of {self.VALID_BRANDS}\")\n",
        "        if brush_type not in self.VALID_TYPES:\n",
        "            raise ValueError(f\"Invalid brush type: {brush_type}. Must be one of {self.VALID_TYPES}\")\n",
        "\n",
        "        self.size = size\n",
        "        self.color = color\n",
        "        self.brand = brand\n",
        "        self.brush_type = brush_type\n",
        "\n",
        "    def paint(self):\n",
        "        print(f\"Painting with a {self.color} {self.size} {self.brand} {self.brush_type} brush!\")\n",
        "\n",
        "# Create an instance with the properties you provided\n",
        "my_brush = PaintBrush(\"medium\", \"red\", \"Winsor & Newton\", \"round\")\n",
        "\n",
        "# Call the paint() method\n",
        "my_brush.paint()\n",
        "\n"
      ],
      "metadata": {
        "id": "YZ8JOqPotDM7",
        "colab": {
          "base_uri": "https://localhost:8080/"
        },
        "outputId": "ca535c2f-08a1-48a0-e926-09bbeffbdfaa"
      },
      "execution_count": 12,
      "outputs": [
        {
          "output_type": "stream",
          "name": "stdout",
          "text": [
            "Painting with a red medium Winsor & Newton round brush!\n"
          ]
        }
      ]
    },
    {
      "cell_type": "markdown",
      "source": [
        "Now, create an instance of the PaintBrush class with the following properties:\n",
        "\n",
        "* Size: medium\n",
        "* Color: red\n",
        "* Brand: Winsor & Newton\n",
        "* Type: round\n",
        "* Call the paint() method on the instance to simulate painting with the brush."
      ],
      "metadata": {
        "id": "XA4HMkLatMrq"
      }
    },
    {
      "cell_type": "code",
      "source": [
        "# Test Case\n"
      ],
      "metadata": {
        "id": "jMo7hRI4tQhU"
      },
      "execution_count": null,
      "outputs": []
    },
    {
      "cell_type": "markdown",
      "source": [
        "👉 **Instructions:**\n",
        "\n",
        "1. Start by defining the class using the keyword class, followed by the name of the class (in this case, \"PaintBrush\").\n",
        "\n",
        "2. Within the class, define the __init__ method to initialize the properties of the paint brush. The method should take four parameters: size, color, brand, and brush_type. Use the self keyword to refer to the instance of the class.\n",
        "\n",
        "3. Inside the __init__ method, assign the values of the parameters to instance variables using the self keyword.\n",
        "\n",
        "4. Define a method named paint that prints out a message indicating the brush size, color, brand, and type.\n",
        "\n",
        "5. Create an instance of the PaintBrush class by calling the class with the required parameters.\n",
        "\n",
        "6. Call the paint() method on the instance to simulate painting with the brush."
      ],
      "metadata": {
        "id": "UJSmIs1DtknS"
      }
    },
    {
      "cell_type": "markdown",
      "source": [
        "## **Activity 4:**"
      ],
      "metadata": {
        "id": "0BMB_3dh1PTR"
      }
    },
    {
      "cell_type": "markdown",
      "source": [
        "### **Bank Account Management System** 💻🏦\n",
        "\n",
        "Create a Bank Account Management System using Object-Oriented Programming (OOPs) in Python. The system should allow users to create and manage bank accounts, deposit and withdraw funds, and view account details."
      ],
      "metadata": {
        "id": "ARKS5oEitsVt"
      }
    },
    {
      "cell_type": "markdown",
      "source": [
        "![bank.png](data:image/png;base64,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)"
      ],
      "metadata": {
        "id": "ShrXmJWrAX_B"
      }
    },
    {
      "cell_type": "code",
      "source": [
        "class BankAccount:\n",
        "\n",
        "    def __init__(self, name, account_number, balance):\n",
        "        self.name = name\n",
        "        self.account_number = account_number\n",
        "        self.balance = balance\n",
        "\n",
        "    def deposit(self, deposit_amount):\n",
        "        self.balance += deposit_amount\n",
        "        print(f\"The deposit amount is: {deposit_amount} and New balance is: {self.balance}\")\n",
        "        return self.balance\n",
        "\n",
        "    def withdraw(self, withdraw_amount):\n",
        "        if self.balance >= withdraw_amount:  # removed space around >=\n",
        "            self.balance -= withdraw_amount  # removed space around -=\n",
        "            print(f\"The withdraw amount is: {withdraw_amount} and New balance is: {self.balance}\")\n",
        "        else:\n",
        "            print(\"Insufficient balance\")\n",
        "        return self.balance\n",
        "\n",
        "    def account_details(self):\n",
        "        print(f\"The account holder {self.name} with account number {self.account_number} has a balance of {self.balance}\")\n",
        "\n",
        "acc_details = BankAccount(\"jasleen\", 4242, 3000)\n",
        "\n",
        "acc_details.deposit(300)\n",
        "acc_details.withdraw(1000)\n",
        "acc_details.account_details()\n"
      ],
      "metadata": {
        "id": "J3WL7qYjvIml",
        "colab": {
          "base_uri": "https://localhost:8080/"
        },
        "outputId": "5745fe16-87e0-4cd0-d18a-5bd7a9f5184a"
      },
      "execution_count": 19,
      "outputs": [
        {
          "output_type": "stream",
          "name": "stdout",
          "text": [
            "The deposit amount is: 300 and New balance is: 3300\n",
            "The withdraw amount is: 1000 and New balance is: 2300\n",
            "The account holder jasleen with account number 4242 has a balance of 2300\n"
          ]
        }
      ]
    },
    {
      "cell_type": "code",
      "source": [
        "class BankAccount:\n",
        "\n",
        "  def __init__(self, name, account_number, balance):\n",
        "    self.name = name\n",
        "    self.account_number = account_number\n",
        "    self.balance = balance\n",
        "\n",
        "  def deposit(self, deposit_amount):\n",
        "    self.balance += deposit_amount\n",
        "    print(f\"Deposited amount: {deposit_amount}. New balance is: {self.balance}\")\n",
        "    return self.balance\n",
        "\n",
        "  def withdraw(self, withdraw_amount):\n",
        "    if self.balance >= withdraw_amount:\n",
        "        self.balance -= withdraw_amount\n",
        "        print(f\"Withdrew amount: {withdraw_amount}. Remaining balance is: {self.balance}\")\n",
        "    else:\n",
        "        print(f\"Insufficient funds! Current balance is: {self.balance}\")\n",
        "    return self.balance\n",
        "\n",
        "  def account_details(self):\n",
        "    print(f\"{self.name} with account number {self.account_number} has a balance of {self.balance}\")\n",
        "\n",
        "acc_details = BankAccount(\"jasleen\", 4242, 3000)\n",
        "acc_details.deposit(300)\n",
        "acc_details.withdraw(1000)\n",
        "acc_details.account_details()\n",
        "\n"
      ],
      "metadata": {
        "id": "mihs9I58w0AB",
        "colab": {
          "base_uri": "https://localhost:8080/"
        },
        "outputId": "5794a3ed-a404-405b-9aa9-508ede67c502"
      },
      "execution_count": 20,
      "outputs": [
        {
          "output_type": "stream",
          "name": "stdout",
          "text": [
            "Deposited amount: 300. New balance is: 3300\n",
            "Withdrew amount: 1000. Remaining balance is: 2300\n",
            "jasleen with account number 4242 has a balance of 2300\n"
          ]
        }
      ]
    },
    {
      "cell_type": "markdown",
      "source": [
        "👉 **Instructions:**\n",
        "\n",
        "1. Define a BankAccount class with an init() method that takes the name, account_number, and balance as parameters and initializes the instance variables.\n",
        "\n",
        "2. Define the deposit() method that takes the amount to be deposited as a parameter and adds it to the balance. Also, print a message with the new balance.\n",
        "\n",
        "3. Define the withdraw() method that takes the amount to be withdrawn as a parameter and checks if the account has sufficient balance. If yes, deduct the amount from the balance and print a message with the new balance. If not, print a message with the current balance.\n",
        "\n",
        "4. Define the account_details() method that prints the name, account number, and balance of the account.\n",
        "\n",
        "5. Create a new instance of the BankAccount class with some initial balance.\n",
        "\n",
        "6. Test the deposit(), withdraw(), and account_details() methods of the BankAccount class by calling them on the instance created in step 5 with some test values."
      ],
      "metadata": {
        "id": "O2GDG6TUvaBF"
      }
    }
  ]
}